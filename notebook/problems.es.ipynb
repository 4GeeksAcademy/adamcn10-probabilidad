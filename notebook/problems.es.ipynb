{
 "cells": [
  {
   "cell_type": "markdown",
   "id": "a41f3622",
   "metadata": {},
   "source": [
    "# Ejercicios de probabilidad"
   ]
  },
  {
   "cell_type": "code",
   "execution_count": 111,
   "id": "2024c5b0",
   "metadata": {},
   "outputs": [],
   "source": [
    "import numpy as np"
   ]
  },
  {
   "cell_type": "markdown",
   "id": "a6bdbd89",
   "metadata": {},
   "source": [
    "## Ejercicio 1 \n",
    "\n",
    "Dos dados se lanzan una vez y se observa el total obtenido. Usa una simulación para encontrar la probabilidad estimada de que la puntuación sea mayor a 7 o un número par. Una simulación es una repetición del mismo experimento multiples veces para observar su comportamiento:\n",
    "\n",
    "- Ejecuta el experimento 1000 veces (lanza 2 dados 1000 veces, y suma el número de ambos dados).\n",
    "- Lleva ua cuenta de los números y las veces que la suma fue mayor a 7 o un número par.\n",
    "- Divide el número del paso 2 entre el número de iteraciones(1000)."
   ]
  },
  {
   "cell_type": "markdown",
   "id": "aa6d078f",
   "metadata": {},
   "source": [
    "### Hacemos una lista con las tiradas\n",
    ">Hacemos una variable que contenga el numero de tiradas (throws) y hacemos una lista con con las tiradas de dados sumando en ella dos arrays de numpy generados con randint de numpy con numeros entre 1 y 6 ya que son las opciones de un dado convencional y con tamaño throws, luego muestro por pantalla las sumas\n"
   ]
  },
  {
   "cell_type": "code",
   "execution_count": 112,
   "id": "8939d892",
   "metadata": {},
   "outputs": [
    {
     "data": {
      "text/plain": [
       "array([ 9,  7,  5,  8,  7,  9,  4,  7,  6,  7,  6, 10,  7,  6,  7,  7,  6,\n",
       "        8,  5,  7,  8,  8,  9,  5,  6,  9,  6,  6,  7,  6,  6,  5,  5, 11,\n",
       "        6,  5,  4,  8,  6,  4, 12,  8,  5,  6, 10,  7,  7, 12,  8,  5,  9,\n",
       "        3,  7,  8,  9,  8,  9,  9,  4,  9,  5,  9, 10, 10, 10,  9,  8,  6,\n",
       "        5,  8,  4,  5,  6,  7, 12,  5, 10, 11, 10,  5, 11,  4,  4, 10,  6,\n",
       "       10,  4,  4,  6,  6,  7,  4, 10,  7,  5,  9,  7,  4,  7,  3,  4, 11,\n",
       "        9,  8,  9,  8,  4,  6, 10,  4,  6,  4,  7,  7,  5,  6,  3,  7, 10,\n",
       "       10, 10,  8,  5,  9,  8,  9,  7,  5,  5,  7,  7,  5,  5, 10,  8,  8,\n",
       "        5,  8,  8,  3,  2, 11,  7,  9,  8, 11, 11,  2,  5,  5,  5,  7,  6,\n",
       "       12,  6,  6,  7,  7,  9,  4,  6,  7, 10, 10,  5,  8,  5,  7,  3,  8,\n",
       "        9,  6,  3,  4,  6, 11,  5,  9,  7, 10,  8,  7,  4,  5,  8,  9,  8,\n",
       "       10, 10,  4,  6, 10,  3,  6,  6,  5,  6, 12,  9,  7,  2,  4,  8,  9,\n",
       "        8, 10,  6,  6, 10,  8,  3,  6,  5,  5,  7,  4,  6, 10,  5,  7,  4,\n",
       "        7,  8,  7,  7,  6,  9,  5,  3,  9,  6,  5,  5, 11,  5,  7,  7,  8,\n",
       "       11,  6,  5,  6,  7,  6,  5,  5,  6,  8, 10,  3,  3,  3,  7,  6,  9,\n",
       "        3,  9,  6,  5,  4,  8,  7,  7,  9,  8,  5,  5,  9,  7,  3,  7,  6,\n",
       "       11,  9,  4,  8, 10,  5,  8,  7,  6,  7,  4, 10,  7,  5,  9,  3,  5,\n",
       "       10,  5,  9, 10, 10,  6,  7,  6,  8,  6,  4,  5,  4,  4,  4,  4,  7,\n",
       "       10,  9, 10,  7,  5,  8,  9,  4,  4, 10,  7,  6,  6,  5,  2, 10,  7,\n",
       "        2,  6,  6,  9,  9,  2,  9,  6,  7,  7,  7,  6,  6,  7,  5,  6,  7,\n",
       "        9,  7,  7,  3,  8,  9,  7,  8,  9,  3,  7,  7,  7,  8,  4,  5,  5,\n",
       "        8, 10,  6,  9,  8,  3,  5, 11,  2,  7,  5, 10,  2,  4,  8,  6,  8,\n",
       "        9,  7,  7,  7,  5,  6, 10,  5,  8,  7,  9,  7,  6,  6,  8,  4,  7,\n",
       "        7,  6, 12,  7, 10,  8,  6,  7, 10,  6,  8,  3,  5,  8,  8,  6,  3,\n",
       "        5,  8, 10,  8, 10,  5,  6,  9,  7, 11, 12,  5,  4,  4, 10,  3,  8,\n",
       "        8,  5,  5, 10,  8,  5, 10,  7, 10,  3,  9,  9,  9,  7,  8,  7, 11,\n",
       "        8,  9,  6,  7, 11,  7,  5,  8,  7,  5, 10,  8,  8,  6,  9, 11,  5,\n",
       "        6,  4,  9,  7,  3,  6,  6,  4,  3,  9,  9, 11,  9,  8,  8,  8,  4,\n",
       "        8,  6,  7,  8,  8, 10,  8, 11,  6,  4,  7,  9,  8,  5,  3,  5,  9,\n",
       "        8,  9,  9, 11,  8, 12,  3,  5, 11,  9,  6,  3,  6, 10,  8,  5,  9,\n",
       "       11,  7,  8, 10,  6,  7,  8,  8,  8,  9,  5,  5, 11,  4,  5,  9,  7,\n",
       "        6,  5, 12,  9,  7,  9, 11,  7,  7,  5,  7,  6,  9,  6,  3,  2,  9,\n",
       "        9, 12, 11,  9,  4,  8,  5,  9, 10,  6,  6,  7,  2,  6,  7, 12,  7,\n",
       "        2,  9,  9,  3, 10,  7,  8, 10,  8,  4,  3,  6,  8,  6,  7,  6,  7,\n",
       "        8,  6, 11,  7,  7, 11,  7,  4,  3,  7,  7,  5,  7,  6,  7,  7,  7,\n",
       "        7,  3,  7,  6,  5,  8,  2,  9,  8,  2,  8,  4,  7,  4,  6, 11,  2,\n",
       "        9,  3,  9,  4,  4, 10,  3,  4,  4,  6, 10,  5,  6, 11,  7,  9, 11,\n",
       "        8,  7,  5,  9, 10,  8,  8,  4,  9, 10,  8,  7,  4, 12,  5,  4,  5,\n",
       "        6,  5,  8,  4, 11,  9,  3,  7,  9,  8,  3,  8,  6,  5,  6,  7,  3,\n",
       "       12,  8,  4,  5, 11, 12, 10, 11,  8,  9,  5,  7, 10, 12,  7,  6,  7,\n",
       "        6,  6,  7,  6,  5,  7, 10,  7,  6, 11,  9, 12, 11, 10,  9, 10,  5,\n",
       "        9,  9, 12,  9,  7,  8,  4, 10,  3,  5,  9, 10,  8,  7, 10,  6,  7,\n",
       "        7,  6,  7,  5,  9,  6, 10, 11,  5,  5,  9, 11,  5,  7,  5,  6,  5,\n",
       "        7, 10,  7,  7, 10,  9,  4, 10,  6, 11,  7,  6,  8, 10,  7, 11,  7,\n",
       "        6,  6, 10,  8,  9,  5,  6,  9, 10,  4,  4, 11,  7,  7,  2, 12,  7,\n",
       "        8, 10, 10, 12, 10,  8,  8,  7,  7,  7, 10,  4,  7,  8,  5,  8,  7,\n",
       "        9,  6, 10,  3,  9, 10, 10,  7,  8, 11,  4,  7,  6,  7,  3, 10,  4,\n",
       "        4,  3,  6,  5,  4, 10,  7,  6,  6,  4,  9,  6,  8,  7,  7,  7,  6,\n",
       "       12,  5,  7,  5,  8,  9,  6, 11, 11,  4,  7,  9,  9, 10,  9,  6,  3,\n",
       "        8,  6,  5,  4,  9,  4, 11,  6, 11,  6,  5,  7,  5,  6,  6, 11,  4,\n",
       "        8,  3,  7,  3,  4,  3,  8, 10,  6,  6,  4,  9,  4,  7,  6,  3,  5,\n",
       "        8,  4,  7,  6,  5,  9, 10, 11, 11,  8,  2,  7,  5,  3,  8,  7,  4,\n",
       "        9, 10,  7,  4,  7,  3,  5,  6,  4,  8, 10,  6,  9,  8,  5,  9,  9,\n",
       "        3,  8,  9,  9,  7,  9,  8,  6,  9,  6,  6,  4, 11,  8,  6,  3,  7,\n",
       "        5,  6,  5, 10,  8,  8,  6,  7,  7,  6, 10, 10,  3, 11, 10,  4,  6,\n",
       "        8,  7, 10,  3,  3, 11, 10,  9,  6,  4,  3,  3,  7,  4,  6,  7,  6,\n",
       "       10,  8,  6, 11,  6,  8,  4, 12,  4,  7,  4,  6, 10,  4,  6,  8,  4,\n",
       "        6,  6,  4,  7,  4, 11,  7,  9,  4,  6, 12,  6,  8,  7,  7,  5,  8,\n",
       "        9,  4,  4,  7,  9,  7,  4,  9,  7,  9,  5,  7, 11,  5])"
      ]
     },
     "execution_count": 112,
     "metadata": {},
     "output_type": "execute_result"
    }
   ],
   "source": [
    "throws = 1000\n",
    "dices = np.random.randint(1, 7, size = throws) + np.random.randint(1, 7, size = throws)\n",
    "dices"
   ]
  },
  {
   "cell_type": "markdown",
   "id": "58cbee3a",
   "metadata": {},
   "source": [
    "### Contamos los casos que cumplen las caracteristicas\n",
    ">Hacemos una variable llamada count que contiene la suma de los casos que o bien el número de la lista es mayor a 7 o bien este es par, utilizamos logical_or de numpy porque no permite usar el or dentro de sum de numpy y quiero que me de valido cuando se da al menos una de las condiciones. Finalmente lo convertimos a entero ya que si no se queda como un entero de numpy en vez de uno de python y queda mejor al imprimirse por pantalla a mi gusto"
   ]
  },
  {
   "cell_type": "code",
   "execution_count": 113,
   "id": "3421748a",
   "metadata": {},
   "outputs": [
    {
     "data": {
      "text/plain": [
       "659"
      ]
     },
     "execution_count": 113,
     "metadata": {},
     "output_type": "execute_result"
    }
   ],
   "source": [
    "count = int(np.sum(np.logical_or(dices > 7, dices %2 == 0)))\n",
    "count"
   ]
  },
  {
   "cell_type": "markdown",
   "id": "7b8cc31b",
   "metadata": {},
   "source": [
    "### Dividimos entre el numero de tiradas para ver la probabilidad\n",
    "> Dividimos las variables count del anterior con la throws del inicio para obtener la probabilidad"
   ]
  },
  {
   "cell_type": "code",
   "execution_count": 114,
   "id": "0cb1dca2",
   "metadata": {},
   "outputs": [
    {
     "data": {
      "text/plain": [
       "0.659"
      ]
     },
     "execution_count": 114,
     "metadata": {},
     "output_type": "execute_result"
    }
   ],
   "source": [
    "probability = count / throws\n",
    "probability"
   ]
  },
  {
   "cell_type": "markdown",
   "id": "55732bca",
   "metadata": {},
   "source": [
    "## Ejercicio 2\n",
    "\n",
    "Una caja contiene 10 bolas blancas, 20 bolas rojas y 30 bolas verdes. Si tomamos 5 bolas de la caja reemplazándolas (tomando una bola, anotando el color y luego regresandola a la caja). Queremos saber la probabilidad de:\n",
    "\n",
    "1. Tomar 3 blancas y 2 rojas.\n",
    "2. Toas todas del mismo color.\n",
    "\n",
    "Ejecuta el experimento 1000 veces y calcula las probabilidades que mencionadas."
   ]
  },
  {
   "cell_type": "code",
   "execution_count": 115,
   "id": "23244d20",
   "metadata": {},
   "outputs": [
    {
     "data": {
      "text/plain": [
       "{0: 'White',\n",
       " 1: 'White',\n",
       " 2: 'White',\n",
       " 3: 'White',\n",
       " 4: 'White',\n",
       " 5: 'White',\n",
       " 6: 'White',\n",
       " 7: 'White',\n",
       " 8: 'White',\n",
       " 9: 'White',\n",
       " 10: 'Red',\n",
       " 11: 'Red',\n",
       " 12: 'Red',\n",
       " 13: 'Red',\n",
       " 14: 'Red',\n",
       " 15: 'Red',\n",
       " 16: 'Red',\n",
       " 17: 'Red',\n",
       " 18: 'Red',\n",
       " 19: 'Red',\n",
       " 20: 'Red',\n",
       " 21: 'Red',\n",
       " 22: 'Red',\n",
       " 23: 'Red',\n",
       " 24: 'Red',\n",
       " 25: 'Red',\n",
       " 26: 'Red',\n",
       " 27: 'Red',\n",
       " 28: 'Red',\n",
       " 29: 'Red',\n",
       " 30: 'Green',\n",
       " 31: 'Green',\n",
       " 32: 'Green',\n",
       " 33: 'Green',\n",
       " 34: 'Green',\n",
       " 35: 'Green',\n",
       " 36: 'Green',\n",
       " 37: 'Green',\n",
       " 38: 'Green',\n",
       " 39: 'Green',\n",
       " 40: 'Green',\n",
       " 41: 'Green',\n",
       " 42: 'Green',\n",
       " 43: 'Green',\n",
       " 44: 'Green',\n",
       " 45: 'Green',\n",
       " 46: 'Green',\n",
       " 47: 'Green',\n",
       " 48: 'Green',\n",
       " 49: 'Green',\n",
       " 50: 'Green',\n",
       " 51: 'Green',\n",
       " 52: 'Green',\n",
       " 53: 'Green',\n",
       " 54: 'Green',\n",
       " 55: 'Green',\n",
       " 56: 'Green',\n",
       " 57: 'Green',\n",
       " 58: 'Green',\n",
       " 59: 'Green'}"
      ]
     },
     "execution_count": 115,
     "metadata": {},
     "output_type": "execute_result"
    }
   ],
   "source": [
    "ball_box = {}\n",
    "\n",
    "# Crea la cajas con las bolas\n",
    "for i in range(60):\n",
    "    if i < 10:\n",
    "        ball_box[i] = \"White\"\n",
    "    elif (i > 9) and (i < 30):\n",
    "        ball_box[i] = \"Red\"\n",
    "    else:\n",
    "        ball_box[i] = \"Green\"\n",
    "\n",
    "ball_box"
   ]
  },
  {
   "cell_type": "markdown",
   "id": "a1b55af1",
   "metadata": {},
   "source": [
    "### Iniciamos el número de rondas y el número de bolas por ronda\n",
    ">Creo las variables rounds y ball_round que nos dan las rondas y las bolas por ronda respectivamente"
   ]
  },
  {
   "cell_type": "code",
   "execution_count": 116,
   "id": "215eef35",
   "metadata": {},
   "outputs": [],
   "source": [
    "rounds = 1000\n",
    "balls_round = 5"
   ]
  },
  {
   "cell_type": "markdown",
   "id": "18a713d6",
   "metadata": {},
   "source": [
    "### Hacemos el experimento de sacar 5 bolas aleatorias cada ronda durante 1000 de estas\n",
    ">Utilizamos randint de numpy para obtener una matriz con tantas filas como rondas y columnas como bolas por columna que contenga números entre 0 y 59 ya que los valores de las bolas se encuentran entre estos y al haber reemplazo cada bola sacada no se ve afectada por las anteriores"
   ]
  },
  {
   "cell_type": "code",
   "execution_count": 117,
   "id": "65924231",
   "metadata": {},
   "outputs": [
    {
     "data": {
      "text/plain": [
       "array([[ 8, 49, 30, 27, 17],\n",
       "       [53, 47, 46, 20,  4],\n",
       "       [36, 13, 38, 57, 32],\n",
       "       ...,\n",
       "       [33, 18, 44, 27, 56],\n",
       "       [49, 21,  0,  2, 16],\n",
       "       [16, 19, 33, 13, 44]], shape=(1000, 5))"
      ]
     },
     "execution_count": 117,
     "metadata": {},
     "output_type": "execute_result"
    }
   ],
   "source": [
    "balls = np.random.randint(0, 60, size=(rounds, balls_round))\n",
    "balls"
   ]
  },
  {
   "cell_type": "markdown",
   "id": "5308dfce",
   "metadata": {},
   "source": [
    "### Hacemos listas que cuenten cuantas bolas hay por color en cada ronda\n",
    ">Con las mismas condiciones que se utilizan cuando se asignan colores a las bolas hacemos listas que contengan el numero de bolas por color por lista mediante sum de numpy añadiendo también el axis = 1 para que me lo de por filas en especifico\n",
    "\n",
    ">En el caso del rojo utilizo como en el ejercicio anterior logical_or de numpy en este caso logical_and para suplir un and logico entre las dos condiciones ya que quiero que se cumplan a la vez\n"
   ]
  },
  {
   "cell_type": "code",
   "execution_count": 118,
   "id": "443650b9",
   "metadata": {},
   "outputs": [
    {
     "data": {
      "text/plain": [
       "(array([1, 1, 0, 2, 0, 0, 1, 0, 2, 2, 0, 1, 1, 0, 0, 0, 1, 0, 1, 0, 2, 1,\n",
       "        1, 2, 0, 1, 1, 0, 0, 0, 1, 1, 2, 0, 1, 1, 2, 0, 1, 0, 0, 3, 2, 1,\n",
       "        1, 0, 2, 1, 0, 0, 2, 2, 1, 2, 1, 0, 3, 1, 1, 1, 1, 0, 2, 2, 1, 0,\n",
       "        1, 0, 0, 1, 1, 0, 0, 0, 1, 0, 0, 0, 1, 1, 1, 3, 0, 0, 0, 1, 1, 3,\n",
       "        1, 1, 1, 0, 0, 1, 0, 0, 0, 2, 1, 1, 2, 0, 2, 1, 0, 0, 3, 2, 1, 0,\n",
       "        0, 0, 3, 1, 0, 0, 1, 0, 0, 0, 1, 3, 0, 1, 2, 1, 3, 1, 1, 0, 0, 0,\n",
       "        1, 0, 2, 1, 0, 0, 1, 1, 1, 0, 2, 0, 0, 0, 0, 0, 2, 1, 0, 1, 1, 0,\n",
       "        1, 0, 0, 1, 1, 1, 0, 2, 2, 1, 4, 2, 1, 0, 0, 1, 1, 1, 1, 1, 1, 0,\n",
       "        1, 0, 1, 1, 0, 1, 1, 0, 0, 0, 1, 0, 1, 0, 0, 1, 1, 0, 0, 3, 0, 2,\n",
       "        0, 0, 1, 1, 1, 0, 1, 0, 1, 0, 0, 0, 1, 1, 1, 1, 0, 1, 0, 1, 2, 1,\n",
       "        0, 1, 2, 1, 0, 2, 0, 1, 1, 1, 1, 0, 0, 0, 1, 0, 0, 1, 1, 2, 0, 0,\n",
       "        1, 1, 0, 1, 1, 0, 0, 2, 1, 0, 1, 1, 0, 0, 0, 0, 1, 1, 2, 0, 1, 0,\n",
       "        0, 0, 1, 1, 0, 0, 0, 1, 2, 1, 0, 1, 1, 3, 0, 0, 0, 0, 1, 2, 0, 0,\n",
       "        1, 1, 0, 0, 0, 0, 2, 1, 1, 1, 3, 1, 1, 2, 3, 0, 0, 0, 0, 0, 1, 1,\n",
       "        0, 0, 1, 1, 3, 1, 0, 0, 1, 2, 3, 2, 1, 0, 1, 2, 1, 1, 1, 1, 0, 0,\n",
       "        0, 0, 2, 1, 1, 1, 2, 1, 1, 1, 0, 0, 1, 1, 1, 0, 1, 0, 2, 1, 0, 2,\n",
       "        0, 1, 1, 0, 3, 1, 2, 2, 2, 1, 1, 0, 0, 0, 0, 1, 1, 0, 0, 2, 1, 2,\n",
       "        1, 1, 0, 1, 0, 2, 1, 2, 1, 1, 2, 2, 0, 1, 0, 1, 1, 2, 0, 1, 1, 1,\n",
       "        1, 0, 0, 1, 0, 1, 0, 1, 1, 0, 0, 2, 2, 0, 1, 0, 2, 1, 2, 0, 0, 1,\n",
       "        0, 1, 0, 2, 0, 1, 1, 1, 1, 1, 2, 2, 1, 0, 1, 0, 1, 0, 0, 0, 1, 1,\n",
       "        1, 0, 0, 2, 1, 1, 1, 2, 1, 1, 1, 1, 2, 0, 2, 1, 0, 0, 1, 1, 1, 2,\n",
       "        1, 1, 1, 0, 2, 0, 1, 1, 1, 0, 1, 1, 0, 1, 0, 0, 1, 0, 1, 0, 1, 1,\n",
       "        3, 1, 1, 0, 1, 1, 1, 1, 1, 0, 2, 0, 1, 1, 1, 2, 0, 1, 1, 1, 1, 0,\n",
       "        0, 0, 1, 3, 1, 1, 0, 2, 2, 0, 0, 0, 1, 1, 1, 0, 0, 0, 2, 1, 0, 1,\n",
       "        0, 1, 0, 1, 2, 1, 0, 2, 2, 0, 2, 0, 1, 0, 2, 1, 0, 0, 0, 1, 0, 0,\n",
       "        1, 2, 0, 1, 2, 0, 1, 0, 0, 3, 1, 0, 0, 0, 0, 1, 2, 0, 0, 1, 2, 1,\n",
       "        1, 0, 1, 3, 1, 0, 0, 1, 0, 4, 0, 1, 0, 1, 1, 0, 3, 0, 2, 1, 1, 1,\n",
       "        1, 0, 0, 0, 0, 0, 1, 0, 1, 1, 1, 0, 0, 0, 2, 0, 1, 0, 0, 1, 1, 1,\n",
       "        0, 0, 0, 2, 1, 1, 2, 1, 1, 2, 0, 0, 1, 1, 0, 0, 0, 2, 1, 2, 1, 2,\n",
       "        1, 2, 0, 1, 0, 1, 0, 0, 1, 3, 1, 1, 1, 0, 0, 1, 2, 1, 1, 2, 0, 0,\n",
       "        0, 1, 0, 2, 0, 1, 0, 2, 2, 1, 1, 2, 0, 1, 0, 0, 1, 0, 1, 1, 0, 0,\n",
       "        1, 0, 1, 1, 2, 2, 2, 1, 2, 1, 0, 0, 0, 1, 2, 0, 2, 2, 0, 2, 0, 0,\n",
       "        0, 1, 0, 3, 2, 0, 0, 0, 0, 3, 1, 2, 1, 1, 2, 1, 1, 0, 0, 0, 1, 0,\n",
       "        0, 1, 0, 1, 0, 1, 1, 0, 1, 0, 2, 0, 2, 0, 1, 0, 0, 1, 0, 0, 0, 2,\n",
       "        1, 0, 0, 1, 1, 2, 0, 2, 2, 2, 1, 1, 0, 0, 1, 2, 0, 0, 1, 0, 1, 0,\n",
       "        0, 1, 1, 3, 0, 0, 1, 0, 2, 1, 1, 1, 1, 1, 2, 1, 1, 0, 1, 1, 0, 0,\n",
       "        2, 1, 3, 1, 1, 1, 1, 0, 1, 1, 1, 2, 1, 1, 0, 3, 0, 0, 1, 2, 1, 0,\n",
       "        1, 1, 1, 1, 1, 1, 2, 1, 1, 0, 1, 0, 2, 2, 1, 1, 2, 0, 2, 1, 1, 0,\n",
       "        1, 1, 0, 1, 0, 0, 1, 0, 0, 0, 2, 1, 1, 3, 1, 0, 1, 2, 1, 1, 0, 0,\n",
       "        0, 1, 1, 0, 2, 0, 1, 2, 1, 0, 0, 0, 1, 0, 0, 0, 1, 3, 0, 1, 0, 1,\n",
       "        1, 2, 0, 1, 1, 1, 0, 2, 0, 1, 2, 0, 0, 2, 3, 2, 0, 1, 2, 1, 0, 1,\n",
       "        2, 1, 0, 2, 2, 1, 3, 0, 1, 1, 1, 0, 0, 1, 2, 1, 1, 3, 2, 2, 0, 0,\n",
       "        1, 0, 0, 0, 1, 1, 0, 2, 1, 1, 0, 2, 0, 2, 1, 2, 1, 2, 1, 2, 0, 0,\n",
       "        0, 0, 0, 0, 3, 1, 0, 2, 0, 2, 1, 0, 0, 0, 0, 0, 2, 0, 0, 0, 0, 1,\n",
       "        1, 0, 0, 2, 1, 0, 2, 0, 1, 1, 2, 0, 0, 0, 0, 1, 2, 0, 0, 1, 2, 2,\n",
       "        2, 1, 1, 2, 1, 0, 1, 0, 2, 0]),\n",
       " array([2, 1, 1, 1, 1, 1, 2, 4, 1, 0, 2, 1, 1, 1, 1, 4, 1, 2, 2, 2, 2, 3,\n",
       "        1, 1, 2, 1, 2, 2, 3, 2, 2, 2, 0, 2, 2, 2, 1, 0, 1, 5, 2, 1, 1, 2,\n",
       "        3, 2, 1, 1, 4, 2, 1, 0, 0, 0, 3, 1, 1, 0, 3, 1, 0, 0, 1, 0, 3, 2,\n",
       "        4, 1, 2, 3, 3, 1, 0, 1, 2, 1, 2, 2, 3, 1, 2, 1, 4, 2, 1, 2, 1, 2,\n",
       "        1, 2, 3, 2, 3, 0, 2, 3, 2, 3, 2, 1, 2, 3, 3, 2, 3, 1, 2, 1, 0, 1,\n",
       "        1, 1, 2, 1, 2, 3, 3, 2, 3, 2, 2, 0, 2, 1, 1, 1, 1, 3, 1, 1, 1, 0,\n",
       "        1, 2, 2, 2, 2, 2, 1, 3, 2, 2, 1, 1, 4, 0, 3, 2, 2, 1, 0, 1, 1, 1,\n",
       "        3, 2, 0, 1, 0, 0, 1, 0, 2, 3, 1, 0, 3, 1, 2, 1, 1, 0, 2, 2, 0, 2,\n",
       "        0, 1, 3, 3, 1, 1, 1, 3, 4, 1, 4, 2, 1, 3, 1, 3, 1, 3, 2, 1, 2, 1,\n",
       "        2, 3, 3, 3, 2, 2, 0, 2, 3, 2, 2, 2, 0, 0, 2, 0, 1, 1, 3, 1, 2, 2,\n",
       "        1, 2, 0, 2, 1, 2, 1, 0, 3, 0, 1, 2, 1, 3, 1, 3, 2, 1, 1, 0, 1, 2,\n",
       "        1, 2, 5, 2, 4, 2, 3, 2, 1, 1, 1, 3, 3, 3, 4, 2, 3, 1, 1, 3, 2, 1,\n",
       "        3, 3, 2, 2, 2, 1, 1, 0, 1, 1, 1, 1, 4, 1, 1, 3, 1, 3, 3, 1, 1, 1,\n",
       "        2, 3, 2, 1, 3, 4, 1, 2, 2, 3, 1, 3, 1, 1, 1, 3, 3, 4, 1, 2, 1, 1,\n",
       "        0, 2, 2, 2, 1, 0, 2, 1, 1, 0, 1, 2, 1, 5, 2, 0, 1, 1, 2, 2, 3, 3,\n",
       "        0, 2, 2, 2, 1, 1, 2, 4, 2, 2, 3, 2, 1, 3, 3, 3, 2, 2, 0, 2, 2, 1,\n",
       "        4, 1, 2, 2, 1, 1, 0, 2, 1, 3, 2, 3, 2, 1, 0, 0, 2, 2, 3, 0, 2, 2,\n",
       "        3, 1, 3, 2, 5, 2, 2, 2, 1, 3, 1, 0, 4, 1, 2, 2, 2, 1, 3, 2, 3, 0,\n",
       "        2, 1, 3, 1, 2, 1, 1, 2, 1, 1, 1, 0, 0, 2, 3, 3, 1, 2, 2, 1, 1, 0,\n",
       "        1, 1, 1, 2, 2, 1, 2, 0, 1, 0, 1, 3, 3, 2, 3, 2, 2, 3, 0, 3, 2, 2,\n",
       "        1, 3, 2, 1, 1, 1, 2, 3, 2, 0, 2, 0, 1, 1, 2, 2, 2, 2, 2, 1, 1, 3,\n",
       "        3, 1, 3, 0, 2, 2, 1, 1, 1, 2, 1, 2, 4, 2, 1, 3, 2, 1, 2, 2, 1, 2,\n",
       "        2, 1, 1, 1, 1, 2, 3, 1, 2, 2, 0, 5, 2, 2, 3, 2, 4, 1, 1, 3, 2, 4,\n",
       "        2, 0, 1, 0, 2, 2, 2, 1, 0, 4, 1, 3, 0, 2, 1, 0, 2, 2, 0, 2, 0, 2,\n",
       "        1, 1, 1, 2, 1, 2, 3, 2, 1, 3, 2, 2, 2, 2, 2, 3, 2, 2, 0, 1, 2, 1,\n",
       "        2, 1, 4, 1, 2, 3, 3, 1, 2, 0, 3, 0, 3, 4, 1, 1, 0, 1, 2, 0, 0, 1,\n",
       "        1, 0, 1, 1, 2, 2, 1, 1, 2, 0, 0, 3, 2, 2, 1, 2, 2, 2, 0, 0, 2, 1,\n",
       "        3, 2, 1, 1, 1, 1, 1, 2, 1, 1, 2, 4, 2, 1, 2, 3, 2, 3, 4, 2, 1, 1,\n",
       "        3, 3, 1, 2, 2, 1, 1, 0, 3, 0, 3, 3, 1, 1, 1, 1, 3, 1, 1, 3, 0, 2,\n",
       "        1, 3, 2, 3, 3, 2, 4, 2, 0, 1, 1, 3, 3, 4, 0, 2, 1, 3, 1, 1, 2, 3,\n",
       "        3, 1, 2, 0, 2, 1, 2, 3, 1, 3, 1, 1, 2, 4, 2, 4, 1, 1, 1, 0, 1, 3,\n",
       "        1, 1, 2, 2, 0, 0, 0, 2, 1, 0, 2, 3, 2, 3, 2, 3, 1, 1, 3, 1, 2, 1,\n",
       "        1, 1, 1, 1, 2, 2, 1, 1, 1, 0, 1, 3, 2, 2, 1, 0, 1, 1, 0, 2, 1, 1,\n",
       "        2, 1, 2, 1, 3, 3, 1, 2, 2, 1, 2, 1, 2, 1, 2, 2, 4, 0, 3, 1, 2, 3,\n",
       "        3, 2, 2, 1, 3, 1, 2, 2, 0, 1, 0, 2, 1, 2, 2, 1, 3, 3, 1, 3, 2, 2,\n",
       "        2, 2, 2, 1, 1, 2, 1, 1, 1, 2, 4, 2, 3, 1, 1, 3, 2, 1, 1, 1, 0, 4,\n",
       "        2, 0, 0, 1, 2, 2, 2, 1, 2, 0, 2, 1, 0, 1, 2, 1, 2, 3, 0, 1, 1, 2,\n",
       "        2, 2, 0, 2, 2, 1, 2, 3, 2, 2, 2, 2, 2, 2, 3, 2, 1, 1, 1, 2, 1, 3,\n",
       "        0, 1, 1, 1, 1, 1, 1, 2, 3, 3, 1, 1, 0, 1, 3, 2, 1, 1, 0, 3, 2, 3,\n",
       "        1, 1, 0, 2, 0, 1, 3, 1, 2, 1, 1, 1, 1, 2, 1, 0, 1, 1, 1, 0, 2, 1,\n",
       "        0, 1, 5, 1, 3, 0, 3, 1, 3, 0, 1, 2, 2, 1, 0, 2, 2, 1, 2, 1, 3, 2,\n",
       "        2, 1, 2, 2, 0, 1, 0, 4, 4, 2, 2, 1, 4, 1, 1, 2, 2, 0, 3, 1, 1, 1,\n",
       "        3, 1, 1, 3, 2, 2, 1, 1, 2, 1, 1, 2, 2, 2, 1, 1, 3, 1, 0, 1, 2, 3,\n",
       "        1, 2, 3, 5, 2, 1, 2, 1, 4, 1, 1, 1, 2, 0, 2, 3, 2, 1, 3, 2, 1, 2,\n",
       "        3, 1, 2, 2, 2, 1, 0, 3, 1, 0, 3, 3, 1, 1, 2, 2, 1, 2, 1, 1, 0, 0,\n",
       "        0, 1, 2, 1, 3, 3, 0, 2, 2, 3]),\n",
       " array([2, 3, 4, 2, 4, 4, 2, 1, 2, 3, 3, 3, 3, 4, 4, 1, 3, 3, 2, 3, 1, 1,\n",
       "        3, 2, 3, 3, 2, 3, 2, 3, 2, 2, 3, 3, 2, 2, 2, 5, 3, 0, 3, 1, 2, 2,\n",
       "        1, 3, 2, 3, 1, 3, 2, 3, 4, 3, 1, 4, 1, 4, 1, 3, 4, 5, 2, 3, 1, 3,\n",
       "        0, 4, 3, 1, 1, 4, 5, 4, 2, 4, 3, 3, 1, 3, 2, 1, 1, 3, 4, 2, 3, 0,\n",
       "        3, 2, 1, 3, 2, 4, 3, 2, 3, 0, 2, 3, 1, 2, 0, 2, 2, 4, 0, 2, 4, 4,\n",
       "        4, 4, 0, 3, 3, 2, 1, 3, 2, 3, 2, 2, 3, 3, 2, 3, 1, 1, 3, 4, 4, 5,\n",
       "        3, 3, 1, 2, 3, 3, 3, 1, 2, 3, 2, 4, 1, 5, 2, 3, 1, 3, 5, 3, 3, 4,\n",
       "        1, 3, 5, 3, 4, 4, 4, 3, 1, 1, 0, 3, 1, 4, 3, 3, 3, 4, 2, 2, 4, 3,\n",
       "        4, 4, 1, 1, 4, 3, 3, 2, 1, 4, 0, 3, 3, 2, 4, 1, 3, 2, 3, 1, 3, 2,\n",
       "        3, 2, 1, 1, 2, 3, 4, 3, 1, 3, 3, 3, 4, 4, 2, 4, 4, 3, 2, 3, 1, 2,\n",
       "        4, 2, 3, 2, 4, 1, 4, 4, 1, 4, 3, 3, 4, 2, 3, 2, 3, 3, 3, 3, 4, 3,\n",
       "        3, 2, 0, 2, 0, 3, 2, 1, 3, 4, 3, 1, 2, 2, 1, 3, 1, 3, 2, 2, 2, 4,\n",
       "        2, 2, 2, 2, 3, 4, 4, 4, 2, 3, 4, 3, 0, 1, 4, 2, 4, 2, 1, 2, 4, 4,\n",
       "        2, 1, 3, 4, 2, 1, 2, 2, 2, 1, 1, 1, 3, 2, 1, 2, 2, 1, 4, 3, 3, 3,\n",
       "        5, 3, 2, 2, 1, 4, 3, 4, 3, 3, 1, 1, 3, 0, 2, 3, 3, 3, 2, 2, 2, 2,\n",
       "        5, 3, 1, 2, 3, 3, 1, 0, 2, 2, 2, 3, 3, 1, 1, 2, 2, 3, 3, 2, 3, 2,\n",
       "        1, 3, 2, 3, 1, 3, 3, 1, 2, 1, 2, 2, 3, 4, 5, 4, 2, 3, 2, 3, 2, 1,\n",
       "        1, 3, 2, 2, 0, 1, 2, 1, 3, 1, 2, 3, 1, 3, 3, 2, 2, 2, 2, 2, 1, 4,\n",
       "        2, 4, 2, 3, 3, 3, 4, 2, 3, 4, 4, 3, 3, 3, 1, 2, 2, 2, 1, 4, 4, 4,\n",
       "        4, 3, 4, 1, 3, 3, 2, 4, 3, 4, 2, 0, 1, 3, 1, 3, 2, 2, 5, 2, 2, 2,\n",
       "        3, 2, 3, 2, 3, 3, 2, 0, 2, 4, 2, 4, 2, 4, 1, 2, 3, 3, 2, 3, 3, 0,\n",
       "        1, 3, 1, 5, 1, 3, 3, 3, 3, 3, 3, 2, 1, 2, 4, 2, 2, 4, 2, 3, 3, 2,\n",
       "        0, 3, 3, 4, 3, 2, 1, 3, 2, 3, 3, 0, 2, 2, 1, 1, 1, 3, 3, 1, 2, 1,\n",
       "        3, 5, 3, 2, 2, 2, 3, 2, 3, 1, 4, 2, 4, 2, 3, 5, 3, 3, 3, 2, 5, 2,\n",
       "        4, 3, 4, 2, 2, 2, 2, 1, 2, 2, 1, 3, 2, 3, 1, 1, 3, 3, 5, 3, 3, 4,\n",
       "        2, 2, 1, 3, 1, 2, 1, 4, 3, 2, 1, 5, 2, 1, 4, 3, 3, 4, 3, 4, 3, 3,\n",
       "        3, 5, 3, 1, 2, 3, 4, 3, 3, 1, 5, 1, 3, 2, 3, 3, 0, 3, 3, 4, 2, 3,\n",
       "        1, 3, 4, 4, 4, 4, 3, 3, 3, 3, 2, 1, 3, 4, 1, 2, 2, 2, 1, 2, 3, 3,\n",
       "        2, 2, 4, 1, 2, 3, 2, 4, 1, 3, 2, 2, 3, 3, 4, 4, 2, 2, 3, 0, 4, 1,\n",
       "        3, 0, 3, 1, 2, 2, 1, 3, 4, 1, 3, 1, 1, 1, 5, 2, 2, 1, 3, 2, 3, 2,\n",
       "        2, 3, 3, 3, 3, 3, 3, 0, 2, 1, 3, 2, 3, 0, 3, 1, 3, 4, 3, 4, 4, 2,\n",
       "        3, 4, 2, 2, 3, 3, 3, 2, 2, 4, 3, 2, 3, 1, 1, 2, 2, 2, 2, 2, 3, 4,\n",
       "        4, 3, 4, 1, 1, 3, 4, 4, 4, 2, 3, 0, 2, 2, 2, 4, 3, 4, 5, 3, 3, 4,\n",
       "        3, 3, 3, 3, 2, 1, 3, 3, 2, 4, 1, 4, 1, 4, 2, 3, 1, 4, 2, 4, 3, 0,\n",
       "        1, 3, 3, 3, 1, 2, 3, 1, 3, 2, 4, 2, 4, 3, 2, 2, 2, 2, 3, 2, 2, 3,\n",
       "        3, 2, 2, 1, 4, 3, 3, 4, 2, 2, 0, 2, 1, 3, 2, 1, 2, 4, 3, 3, 5, 1,\n",
       "        1, 4, 2, 3, 2, 2, 2, 4, 2, 4, 2, 2, 4, 3, 3, 1, 3, 2, 4, 2, 3, 3,\n",
       "        2, 2, 4, 2, 2, 3, 1, 1, 2, 3, 2, 3, 1, 1, 1, 2, 2, 4, 2, 2, 3, 2,\n",
       "        4, 3, 4, 3, 4, 4, 3, 3, 2, 2, 2, 3, 4, 1, 1, 3, 3, 2, 4, 1, 3, 2,\n",
       "        4, 3, 4, 3, 3, 4, 1, 2, 2, 4, 4, 4, 3, 3, 4, 5, 3, 1, 4, 4, 3, 3,\n",
       "        4, 2, 0, 3, 1, 4, 2, 2, 2, 4, 2, 3, 3, 2, 2, 1, 3, 3, 1, 3, 2, 2,\n",
       "        1, 3, 3, 1, 3, 3, 2, 1, 0, 2, 2, 4, 1, 3, 2, 2, 2, 2, 0, 2, 4, 4,\n",
       "        1, 4, 4, 2, 2, 2, 4, 2, 2, 3, 4, 1, 3, 1, 3, 2, 1, 2, 4, 2, 3, 2,\n",
       "        4, 3, 2, 0, 0, 3, 3, 2, 1, 2, 3, 4, 3, 5, 3, 2, 1, 4, 2, 3, 4, 2,\n",
       "        1, 4, 3, 1, 2, 4, 3, 2, 3, 4, 0, 2, 4, 4, 3, 2, 2, 3, 4, 3, 3, 3,\n",
       "        3, 3, 2, 2, 1, 2, 4, 3, 1, 2]))"
      ]
     },
     "execution_count": 118,
     "metadata": {},
     "output_type": "execute_result"
    }
   ],
   "source": [
    "white = np.sum(balls < 10, axis = 1)\n",
    "red = np.sum(np.logical_and(balls > 9, balls < 30), axis = 1)\n",
    "green = np.sum(balls > 29, axis = 1)\n",
    "white, red, green"
   ]
  },
  {
   "cell_type": "markdown",
   "id": "d162037f",
   "metadata": {},
   "source": [
    "### Comprobamos las conciciones gracias a las anteriores listas\n",
    ">Asignamos a las variables test_1 y test_2 las veces que se cumple lo que se pide en el ejercicio. El primer test se comprueba con el logical_and anteriormente mencionado y las condiciones de que haya 3 bolas blancas y 2 rojas y luego se cuentan en test_1. El segundo test se comprueba con el logical_or también mencionado en anteriores apartados del proyecto y las condiciones de que haya 5 bolas blancas 5 rojas o 5 verdes, comprobando de esta manera que sean las 5 iguales para despues contarse en test_2."
   ]
  },
  {
   "cell_type": "code",
   "execution_count": 119,
   "id": "b0cef9cf",
   "metadata": {},
   "outputs": [
    {
     "data": {
      "text/plain": [
       "(6, 7)"
      ]
     },
     "execution_count": 119,
     "metadata": {},
     "output_type": "execute_result"
    }
   ],
   "source": [
    "test_1 = int(np.sum(np.logical_and(white == 3, red == 2)))\n",
    "test_2 = int(np.sum(np.logical_or(white == 5, red == 5, green == 5)))\n",
    "\n",
    "test_1, test_2"
   ]
  },
  {
   "cell_type": "markdown",
   "id": "6be62217",
   "metadata": {},
   "source": [
    "### Con los test calculamos la probabilidad\n",
    ">Calculamos las probabilidades dividiendo los tests por el numero de rondas"
   ]
  },
  {
   "cell_type": "code",
   "execution_count": 120,
   "id": "852b7eaa",
   "metadata": {},
   "outputs": [
    {
     "data": {
      "text/plain": [
       "(0.006, 0.007)"
      ]
     },
     "execution_count": 120,
     "metadata": {},
     "output_type": "execute_result"
    }
   ],
   "source": [
    "probability_1 = test_1 / rounds\n",
    "probability_2 = test_2 / rounds\n",
    "probability_1, probability_2"
   ]
  }
 ],
 "metadata": {
  "kernelspec": {
   "display_name": "Python 3",
   "language": "python",
   "name": "python3"
  },
  "language_info": {
   "codemirror_mode": {
    "name": "ipython",
    "version": 3
   },
   "file_extension": ".py",
   "mimetype": "text/x-python",
   "name": "python",
   "nbconvert_exporter": "python",
   "pygments_lexer": "ipython3",
   "version": "3.11.4"
  }
 },
 "nbformat": 4,
 "nbformat_minor": 5
}
